{
  "metadata": {
    "kernelspec": {
      "name": "python",
      "display_name": "Python (Pyodide)",
      "language": "python"
    },
    "language_info": {
      "codemirror_mode": {
        "name": "python",
        "version": 3
      },
      "file_extension": ".py",
      "mimetype": "text/x-python",
      "name": "python",
      "nbconvert_exporter": "python",
      "pygments_lexer": "ipython3",
      "version": "3.8"
    }
  },
  "nbformat_minor": 4,
  "nbformat": 4,
  "cells": [
    {
      "cell_type": "markdown",
      "source": "# Data Science Tool and Ecosystem",
      "metadata": {}
    },
    {
      "cell_type": "markdown",
      "source": "Jupyter Notebook is an open-source web application that facilitates interactive computing by combining live code, equations, visualizations, and narrative text in shareable documents, promoting an integrated approach to code development and data exploration.",
      "metadata": {}
    },
    {
      "cell_type": "markdown",
      "source": "**Objectives:** List popular languages for Data Science\r- Python\n- SQL\n- R\n- Juliadulia",
      "metadata": {}
    },
    {
      "cell_type": "markdown",
      "source": "Tof the commonly used libraries by Data Scientists include:\r\n1. *umPy\r\n2. *panda*\r\n3. **Scik-lea**\r\n4. **TsorFlow**\r\n\r\nThese libraries provide robust functionality for tasks such as data manipulation, analysis, machine learning, and deep learning, contributing significantly to the data scienc\ne workflow.",
      "metadata": {}
    },
    {
      "cell_type": "markdown",
      "source": "| Data Science Tools       |\r\n|--------------------------|\r\n| Jupyter Notebooks        |\r\n| RStudio                  |\r\n| VS Code (with Python)    |",
      "metadata": {}
    },
    {
      "cell_type": "markdown",
      "source": "### Below are a few examples of evaluating arithmetic expressions in Python",
      "metadata": {}
    },
    {
      "cell_type": "code",
      "source": "# This a simple arithmetic expression to mutiply then add integers\n\n(3*4)+5",
      "metadata": {
        "trusted": true
      },
      "outputs": [
        {
          "execution_count": 3,
          "output_type": "execute_result",
          "data": {
            "text/plain": "17"
          },
          "metadata": {}
        }
      ],
      "execution_count": 3
    },
    {
      "cell_type": "code",
      "source": "# This will convert 200 minutes to hours by diving by 60\n\n200/60",
      "metadata": {
        "trusted": true
      },
      "outputs": [
        {
          "execution_count": 4,
          "output_type": "execute_result",
          "data": {
            "text/plain": "3.3333333333333335"
          },
          "metadata": {}
        }
      ],
      "execution_count": 4
    },
    {
      "cell_type": "markdown",
      "source": "## Author \nAhmed ",
      "metadata": {}
    },
    {
      "cell_type": "markdown",
      "source": "",
      "metadata": {}
    }
  ]
}
